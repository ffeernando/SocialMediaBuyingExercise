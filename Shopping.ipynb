{
  "nbformat": 4,
  "nbformat_minor": 0,
  "metadata": {
    "colab": {
      "provenance": [],
      "collapsed_sections": [],
      "authorship_tag": "ABX9TyOgh3oPuEQacLLHmyRexNjq",
      "include_colab_link": true
    },
    "kernelspec": {
      "name": "python3",
      "display_name": "Python 3"
    },
    "language_info": {
      "name": "python"
    }
  },
  "cells": [
    {
      "cell_type": "markdown",
      "metadata": {
        "id": "view-in-github",
        "colab_type": "text"
      },
      "source": [
        "<a href=\"https://colab.research.google.com/github/ffeernando/SocialMediaBuyingExercise/blob/main/Shopping.ipynb\" target=\"_parent\"><img src=\"https://colab.research.google.com/assets/colab-badge.svg\" alt=\"Open In Colab\"/></a>"
      ]
    },
    {
      "cell_type": "code",
      "execution_count": 3,
      "metadata": {
        "id": "fZIoGI3HpElh"
      },
      "outputs": [],
      "source": [
        "import pandas as pd"
      ]
    },
    {
      "cell_type": "code",
      "source": [
        "social = pd.read_csv('WhatsgoodlyData-6.csv')\n",
        "social"
      ],
      "metadata": {
        "colab": {
          "base_uri": "https://localhost:8080/",
          "height": 419
        },
        "id": "H5Wy7hPApKx8",
        "outputId": "c6c0d52f-35a2-432e-e212-e0237944f130"
      },
      "execution_count": 6,
      "outputs": [
        {
          "output_type": "execute_result",
          "data": {
            "text/plain": [
              "                                               Question Segment Type  \\\n",
              "0     What social platform has influenced your onlin...       Mobile   \n",
              "1     What social platform has influenced your onlin...       Mobile   \n",
              "2     What social platform has influenced your onlin...       Mobile   \n",
              "3     What social platform has influenced your onlin...       Mobile   \n",
              "4     What social platform has influenced your onlin...       Mobile   \n",
              "...                                                 ...          ...   \n",
              "1445  What social platform has influenced your onlin...       Custom   \n",
              "1446  What social platform has influenced your onlin...       Custom   \n",
              "1447  What social platform has influenced your onlin...       Custom   \n",
              "1448  What social platform has influenced your onlin...       Custom   \n",
              "1449  What social platform has influenced your onlin...       Custom   \n",
              "\n",
              "               Segment Description     Answer  Count  Percentage  \n",
              "0                   Global results   Facebook    548       0.205  \n",
              "1                   Global results  Instagram    916       0.342  \n",
              "2                   Global results   Snapchat     86       0.032  \n",
              "3                   Global results    Twitter    179       0.067  \n",
              "4                   Global results       None    947       0.354  \n",
              "...                            ...        ...    ...         ...  \n",
              "1445  Sexual orientation? Straight   Facebook    215       0.180  \n",
              "1446  Sexual orientation? Straight  Instagram    354       0.297  \n",
              "1447  Sexual orientation? Straight   Snapchat     44       0.037  \n",
              "1448  Sexual orientation? Straight    Twitter     88       0.074  \n",
              "1449  Sexual orientation? Straight       None    492       0.412  \n",
              "\n",
              "[1450 rows x 6 columns]"
            ],
            "text/html": [
              "\n",
              "  <div id=\"df-b5ac2cc4-bbd7-4a39-aacf-a760ab80c84c\">\n",
              "    <div class=\"colab-df-container\">\n",
              "      <div>\n",
              "<style scoped>\n",
              "    .dataframe tbody tr th:only-of-type {\n",
              "        vertical-align: middle;\n",
              "    }\n",
              "\n",
              "    .dataframe tbody tr th {\n",
              "        vertical-align: top;\n",
              "    }\n",
              "\n",
              "    .dataframe thead th {\n",
              "        text-align: right;\n",
              "    }\n",
              "</style>\n",
              "<table border=\"1\" class=\"dataframe\">\n",
              "  <thead>\n",
              "    <tr style=\"text-align: right;\">\n",
              "      <th></th>\n",
              "      <th>Question</th>\n",
              "      <th>Segment Type</th>\n",
              "      <th>Segment Description</th>\n",
              "      <th>Answer</th>\n",
              "      <th>Count</th>\n",
              "      <th>Percentage</th>\n",
              "    </tr>\n",
              "  </thead>\n",
              "  <tbody>\n",
              "    <tr>\n",
              "      <th>0</th>\n",
              "      <td>What social platform has influenced your onlin...</td>\n",
              "      <td>Mobile</td>\n",
              "      <td>Global results</td>\n",
              "      <td>Facebook</td>\n",
              "      <td>548</td>\n",
              "      <td>0.205</td>\n",
              "    </tr>\n",
              "    <tr>\n",
              "      <th>1</th>\n",
              "      <td>What social platform has influenced your onlin...</td>\n",
              "      <td>Mobile</td>\n",
              "      <td>Global results</td>\n",
              "      <td>Instagram</td>\n",
              "      <td>916</td>\n",
              "      <td>0.342</td>\n",
              "    </tr>\n",
              "    <tr>\n",
              "      <th>2</th>\n",
              "      <td>What social platform has influenced your onlin...</td>\n",
              "      <td>Mobile</td>\n",
              "      <td>Global results</td>\n",
              "      <td>Snapchat</td>\n",
              "      <td>86</td>\n",
              "      <td>0.032</td>\n",
              "    </tr>\n",
              "    <tr>\n",
              "      <th>3</th>\n",
              "      <td>What social platform has influenced your onlin...</td>\n",
              "      <td>Mobile</td>\n",
              "      <td>Global results</td>\n",
              "      <td>Twitter</td>\n",
              "      <td>179</td>\n",
              "      <td>0.067</td>\n",
              "    </tr>\n",
              "    <tr>\n",
              "      <th>4</th>\n",
              "      <td>What social platform has influenced your onlin...</td>\n",
              "      <td>Mobile</td>\n",
              "      <td>Global results</td>\n",
              "      <td>None</td>\n",
              "      <td>947</td>\n",
              "      <td>0.354</td>\n",
              "    </tr>\n",
              "    <tr>\n",
              "      <th>...</th>\n",
              "      <td>...</td>\n",
              "      <td>...</td>\n",
              "      <td>...</td>\n",
              "      <td>...</td>\n",
              "      <td>...</td>\n",
              "      <td>...</td>\n",
              "    </tr>\n",
              "    <tr>\n",
              "      <th>1445</th>\n",
              "      <td>What social platform has influenced your onlin...</td>\n",
              "      <td>Custom</td>\n",
              "      <td>Sexual orientation? Straight</td>\n",
              "      <td>Facebook</td>\n",
              "      <td>215</td>\n",
              "      <td>0.180</td>\n",
              "    </tr>\n",
              "    <tr>\n",
              "      <th>1446</th>\n",
              "      <td>What social platform has influenced your onlin...</td>\n",
              "      <td>Custom</td>\n",
              "      <td>Sexual orientation? Straight</td>\n",
              "      <td>Instagram</td>\n",
              "      <td>354</td>\n",
              "      <td>0.297</td>\n",
              "    </tr>\n",
              "    <tr>\n",
              "      <th>1447</th>\n",
              "      <td>What social platform has influenced your onlin...</td>\n",
              "      <td>Custom</td>\n",
              "      <td>Sexual orientation? Straight</td>\n",
              "      <td>Snapchat</td>\n",
              "      <td>44</td>\n",
              "      <td>0.037</td>\n",
              "    </tr>\n",
              "    <tr>\n",
              "      <th>1448</th>\n",
              "      <td>What social platform has influenced your onlin...</td>\n",
              "      <td>Custom</td>\n",
              "      <td>Sexual orientation? Straight</td>\n",
              "      <td>Twitter</td>\n",
              "      <td>88</td>\n",
              "      <td>0.074</td>\n",
              "    </tr>\n",
              "    <tr>\n",
              "      <th>1449</th>\n",
              "      <td>What social platform has influenced your onlin...</td>\n",
              "      <td>Custom</td>\n",
              "      <td>Sexual orientation? Straight</td>\n",
              "      <td>None</td>\n",
              "      <td>492</td>\n",
              "      <td>0.412</td>\n",
              "    </tr>\n",
              "  </tbody>\n",
              "</table>\n",
              "<p>1450 rows × 6 columns</p>\n",
              "</div>\n",
              "      <button class=\"colab-df-convert\" onclick=\"convertToInteractive('df-b5ac2cc4-bbd7-4a39-aacf-a760ab80c84c')\"\n",
              "              title=\"Convert this dataframe to an interactive table.\"\n",
              "              style=\"display:none;\">\n",
              "        \n",
              "  <svg xmlns=\"http://www.w3.org/2000/svg\" height=\"24px\"viewBox=\"0 0 24 24\"\n",
              "       width=\"24px\">\n",
              "    <path d=\"M0 0h24v24H0V0z\" fill=\"none\"/>\n",
              "    <path d=\"M18.56 5.44l.94 2.06.94-2.06 2.06-.94-2.06-.94-.94-2.06-.94 2.06-2.06.94zm-11 1L8.5 8.5l.94-2.06 2.06-.94-2.06-.94L8.5 2.5l-.94 2.06-2.06.94zm10 10l.94 2.06.94-2.06 2.06-.94-2.06-.94-.94-2.06-.94 2.06-2.06.94z\"/><path d=\"M17.41 7.96l-1.37-1.37c-.4-.4-.92-.59-1.43-.59-.52 0-1.04.2-1.43.59L10.3 9.45l-7.72 7.72c-.78.78-.78 2.05 0 2.83L4 21.41c.39.39.9.59 1.41.59.51 0 1.02-.2 1.41-.59l7.78-7.78 2.81-2.81c.8-.78.8-2.07 0-2.86zM5.41 20L4 18.59l7.72-7.72 1.47 1.35L5.41 20z\"/>\n",
              "  </svg>\n",
              "      </button>\n",
              "      \n",
              "  <style>\n",
              "    .colab-df-container {\n",
              "      display:flex;\n",
              "      flex-wrap:wrap;\n",
              "      gap: 12px;\n",
              "    }\n",
              "\n",
              "    .colab-df-convert {\n",
              "      background-color: #E8F0FE;\n",
              "      border: none;\n",
              "      border-radius: 50%;\n",
              "      cursor: pointer;\n",
              "      display: none;\n",
              "      fill: #1967D2;\n",
              "      height: 32px;\n",
              "      padding: 0 0 0 0;\n",
              "      width: 32px;\n",
              "    }\n",
              "\n",
              "    .colab-df-convert:hover {\n",
              "      background-color: #E2EBFA;\n",
              "      box-shadow: 0px 1px 2px rgba(60, 64, 67, 0.3), 0px 1px 3px 1px rgba(60, 64, 67, 0.15);\n",
              "      fill: #174EA6;\n",
              "    }\n",
              "\n",
              "    [theme=dark] .colab-df-convert {\n",
              "      background-color: #3B4455;\n",
              "      fill: #D2E3FC;\n",
              "    }\n",
              "\n",
              "    [theme=dark] .colab-df-convert:hover {\n",
              "      background-color: #434B5C;\n",
              "      box-shadow: 0px 1px 3px 1px rgba(0, 0, 0, 0.15);\n",
              "      filter: drop-shadow(0px 1px 2px rgba(0, 0, 0, 0.3));\n",
              "      fill: #FFFFFF;\n",
              "    }\n",
              "  </style>\n",
              "\n",
              "      <script>\n",
              "        const buttonEl =\n",
              "          document.querySelector('#df-b5ac2cc4-bbd7-4a39-aacf-a760ab80c84c button.colab-df-convert');\n",
              "        buttonEl.style.display =\n",
              "          google.colab.kernel.accessAllowed ? 'block' : 'none';\n",
              "\n",
              "        async function convertToInteractive(key) {\n",
              "          const element = document.querySelector('#df-b5ac2cc4-bbd7-4a39-aacf-a760ab80c84c');\n",
              "          const dataTable =\n",
              "            await google.colab.kernel.invokeFunction('convertToInteractive',\n",
              "                                                     [key], {});\n",
              "          if (!dataTable) return;\n",
              "\n",
              "          const docLinkHtml = 'Like what you see? Visit the ' +\n",
              "            '<a target=\"_blank\" href=https://colab.research.google.com/notebooks/data_table.ipynb>data table notebook</a>'\n",
              "            + ' to learn more about interactive tables.';\n",
              "          element.innerHTML = '';\n",
              "          dataTable['output_type'] = 'display_data';\n",
              "          await google.colab.output.renderOutput(dataTable, element);\n",
              "          const docLink = document.createElement('div');\n",
              "          docLink.innerHTML = docLinkHtml;\n",
              "          element.appendChild(docLink);\n",
              "        }\n",
              "      </script>\n",
              "    </div>\n",
              "  </div>\n",
              "  "
            ]
          },
          "metadata": {},
          "execution_count": 6
        }
      ]
    },
    {
      "cell_type": "markdown",
      "source": [
        "Exploraremos información general de nuestro dataFrame."
      ],
      "metadata": {
        "id": "bnP0oxKaqXvU"
      }
    },
    {
      "cell_type": "code",
      "source": [
        "social.info()"
      ],
      "metadata": {
        "colab": {
          "base_uri": "https://localhost:8080/"
        },
        "id": "c2rVtY98qXXj",
        "outputId": "4a4a4450-30bd-4107-896d-8d69523b540f"
      },
      "execution_count": 7,
      "outputs": [
        {
          "output_type": "stream",
          "name": "stdout",
          "text": [
            "<class 'pandas.core.frame.DataFrame'>\n",
            "RangeIndex: 1450 entries, 0 to 1449\n",
            "Data columns (total 6 columns):\n",
            " #   Column               Non-Null Count  Dtype  \n",
            "---  ------               --------------  -----  \n",
            " 0   Question             1450 non-null   object \n",
            " 1   Segment Type         1450 non-null   object \n",
            " 2   Segment Description  1450 non-null   object \n",
            " 3   Answer               1450 non-null   object \n",
            " 4   Count                1450 non-null   int64  \n",
            " 5   Percentage           1450 non-null   float64\n",
            "dtypes: float64(1), int64(1), object(4)\n",
            "memory usage: 68.1+ KB\n"
          ]
        }
      ]
    },
    {
      "cell_type": "markdown",
      "source": [
        "Número de filas."
      ],
      "metadata": {
        "id": "xKywGtlRr8DD"
      }
    },
    {
      "cell_type": "code",
      "source": [
        "social.shape[0]"
      ],
      "metadata": {
        "colab": {
          "base_uri": "https://localhost:8080/"
        },
        "id": "nxn7UIa8r4fV",
        "outputId": "a97b1b58-a581-4e23-e476-d735a7b3f184"
      },
      "execution_count": 19,
      "outputs": [
        {
          "output_type": "execute_result",
          "data": {
            "text/plain": [
              "1450"
            ]
          },
          "metadata": {},
          "execution_count": 19
        }
      ]
    },
    {
      "cell_type": "markdown",
      "source": [
        "Verificamos si hay valores nulos."
      ],
      "metadata": {
        "id": "r2x9GnEsrywZ"
      }
    },
    {
      "cell_type": "code",
      "source": [
        "social.isnull().values.any()"
      ],
      "metadata": {
        "colab": {
          "base_uri": "https://localhost:8080/"
        },
        "id": "WmCJbXpjqntM",
        "outputId": "3382191f-66f5-467f-d0b4-5c143daff11e"
      },
      "execution_count": 18,
      "outputs": [
        {
          "output_type": "execute_result",
          "data": {
            "text/plain": [
              "False"
            ]
          },
          "metadata": {},
          "execution_count": 18
        }
      ]
    },
    {
      "cell_type": "markdown",
      "source": [
        "Contar el número de preguntas diferentes."
      ],
      "metadata": {
        "id": "o5DfO5D5srlc"
      }
    },
    {
      "cell_type": "code",
      "source": [
        "social.Question.value_counts()"
      ],
      "metadata": {
        "colab": {
          "base_uri": "https://localhost:8080/"
        },
        "id": "Qga-rJ4fsIiw",
        "outputId": "83038f88-61cb-4be6-850d-847dc3dd38b7"
      },
      "execution_count": 21,
      "outputs": [
        {
          "output_type": "execute_result",
          "data": {
            "text/plain": [
              "What social platform has influenced your online shopping most?    1450\n",
              "Name: Question, dtype: int64"
            ]
          },
          "metadata": {},
          "execution_count": 21
        }
      ]
    },
    {
      "cell_type": "markdown",
      "source": [
        "Estadísticos generales de los datos."
      ],
      "metadata": {
        "id": "t9Jhx-1pt37A"
      }
    },
    {
      "cell_type": "code",
      "source": [
        "social.describe()"
      ],
      "metadata": {
        "colab": {
          "base_uri": "https://localhost:8080/",
          "height": 297
        },
        "id": "vbxvLtjes0bE",
        "outputId": "3aa6a631-7a5b-49b5-9a70-56b4ba356679"
      },
      "execution_count": 25,
      "outputs": [
        {
          "output_type": "execute_result",
          "data": {
            "text/plain": [
              "             Count   Percentage\n",
              "count  1450.000000  1450.000000\n",
              "mean     35.013793     0.199313\n",
              "std      95.055604     0.274989\n",
              "min       0.000000     0.000000\n",
              "25%       0.000000     0.000000\n",
              "50%       1.000000     0.063500\n",
              "75%      20.000000     0.323750\n",
              "max     947.000000     1.000000"
            ],
            "text/html": [
              "\n",
              "  <div id=\"df-e31971c7-03b9-43b6-9c98-23f362a94939\">\n",
              "    <div class=\"colab-df-container\">\n",
              "      <div>\n",
              "<style scoped>\n",
              "    .dataframe tbody tr th:only-of-type {\n",
              "        vertical-align: middle;\n",
              "    }\n",
              "\n",
              "    .dataframe tbody tr th {\n",
              "        vertical-align: top;\n",
              "    }\n",
              "\n",
              "    .dataframe thead th {\n",
              "        text-align: right;\n",
              "    }\n",
              "</style>\n",
              "<table border=\"1\" class=\"dataframe\">\n",
              "  <thead>\n",
              "    <tr style=\"text-align: right;\">\n",
              "      <th></th>\n",
              "      <th>Count</th>\n",
              "      <th>Percentage</th>\n",
              "    </tr>\n",
              "  </thead>\n",
              "  <tbody>\n",
              "    <tr>\n",
              "      <th>count</th>\n",
              "      <td>1450.000000</td>\n",
              "      <td>1450.000000</td>\n",
              "    </tr>\n",
              "    <tr>\n",
              "      <th>mean</th>\n",
              "      <td>35.013793</td>\n",
              "      <td>0.199313</td>\n",
              "    </tr>\n",
              "    <tr>\n",
              "      <th>std</th>\n",
              "      <td>95.055604</td>\n",
              "      <td>0.274989</td>\n",
              "    </tr>\n",
              "    <tr>\n",
              "      <th>min</th>\n",
              "      <td>0.000000</td>\n",
              "      <td>0.000000</td>\n",
              "    </tr>\n",
              "    <tr>\n",
              "      <th>25%</th>\n",
              "      <td>0.000000</td>\n",
              "      <td>0.000000</td>\n",
              "    </tr>\n",
              "    <tr>\n",
              "      <th>50%</th>\n",
              "      <td>1.000000</td>\n",
              "      <td>0.063500</td>\n",
              "    </tr>\n",
              "    <tr>\n",
              "      <th>75%</th>\n",
              "      <td>20.000000</td>\n",
              "      <td>0.323750</td>\n",
              "    </tr>\n",
              "    <tr>\n",
              "      <th>max</th>\n",
              "      <td>947.000000</td>\n",
              "      <td>1.000000</td>\n",
              "    </tr>\n",
              "  </tbody>\n",
              "</table>\n",
              "</div>\n",
              "      <button class=\"colab-df-convert\" onclick=\"convertToInteractive('df-e31971c7-03b9-43b6-9c98-23f362a94939')\"\n",
              "              title=\"Convert this dataframe to an interactive table.\"\n",
              "              style=\"display:none;\">\n",
              "        \n",
              "  <svg xmlns=\"http://www.w3.org/2000/svg\" height=\"24px\"viewBox=\"0 0 24 24\"\n",
              "       width=\"24px\">\n",
              "    <path d=\"M0 0h24v24H0V0z\" fill=\"none\"/>\n",
              "    <path d=\"M18.56 5.44l.94 2.06.94-2.06 2.06-.94-2.06-.94-.94-2.06-.94 2.06-2.06.94zm-11 1L8.5 8.5l.94-2.06 2.06-.94-2.06-.94L8.5 2.5l-.94 2.06-2.06.94zm10 10l.94 2.06.94-2.06 2.06-.94-2.06-.94-.94-2.06-.94 2.06-2.06.94z\"/><path d=\"M17.41 7.96l-1.37-1.37c-.4-.4-.92-.59-1.43-.59-.52 0-1.04.2-1.43.59L10.3 9.45l-7.72 7.72c-.78.78-.78 2.05 0 2.83L4 21.41c.39.39.9.59 1.41.59.51 0 1.02-.2 1.41-.59l7.78-7.78 2.81-2.81c.8-.78.8-2.07 0-2.86zM5.41 20L4 18.59l7.72-7.72 1.47 1.35L5.41 20z\"/>\n",
              "  </svg>\n",
              "      </button>\n",
              "      \n",
              "  <style>\n",
              "    .colab-df-container {\n",
              "      display:flex;\n",
              "      flex-wrap:wrap;\n",
              "      gap: 12px;\n",
              "    }\n",
              "\n",
              "    .colab-df-convert {\n",
              "      background-color: #E8F0FE;\n",
              "      border: none;\n",
              "      border-radius: 50%;\n",
              "      cursor: pointer;\n",
              "      display: none;\n",
              "      fill: #1967D2;\n",
              "      height: 32px;\n",
              "      padding: 0 0 0 0;\n",
              "      width: 32px;\n",
              "    }\n",
              "\n",
              "    .colab-df-convert:hover {\n",
              "      background-color: #E2EBFA;\n",
              "      box-shadow: 0px 1px 2px rgba(60, 64, 67, 0.3), 0px 1px 3px 1px rgba(60, 64, 67, 0.15);\n",
              "      fill: #174EA6;\n",
              "    }\n",
              "\n",
              "    [theme=dark] .colab-df-convert {\n",
              "      background-color: #3B4455;\n",
              "      fill: #D2E3FC;\n",
              "    }\n",
              "\n",
              "    [theme=dark] .colab-df-convert:hover {\n",
              "      background-color: #434B5C;\n",
              "      box-shadow: 0px 1px 3px 1px rgba(0, 0, 0, 0.15);\n",
              "      filter: drop-shadow(0px 1px 2px rgba(0, 0, 0, 0.3));\n",
              "      fill: #FFFFFF;\n",
              "    }\n",
              "  </style>\n",
              "\n",
              "      <script>\n",
              "        const buttonEl =\n",
              "          document.querySelector('#df-e31971c7-03b9-43b6-9c98-23f362a94939 button.colab-df-convert');\n",
              "        buttonEl.style.display =\n",
              "          google.colab.kernel.accessAllowed ? 'block' : 'none';\n",
              "\n",
              "        async function convertToInteractive(key) {\n",
              "          const element = document.querySelector('#df-e31971c7-03b9-43b6-9c98-23f362a94939');\n",
              "          const dataTable =\n",
              "            await google.colab.kernel.invokeFunction('convertToInteractive',\n",
              "                                                     [key], {});\n",
              "          if (!dataTable) return;\n",
              "\n",
              "          const docLinkHtml = 'Like what you see? Visit the ' +\n",
              "            '<a target=\"_blank\" href=https://colab.research.google.com/notebooks/data_table.ipynb>data table notebook</a>'\n",
              "            + ' to learn more about interactive tables.';\n",
              "          element.innerHTML = '';\n",
              "          dataTable['output_type'] = 'display_data';\n",
              "          await google.colab.output.renderOutput(dataTable, element);\n",
              "          const docLink = document.createElement('div');\n",
              "          docLink.innerHTML = docLinkHtml;\n",
              "          element.appendChild(docLink);\n",
              "        }\n",
              "      </script>\n",
              "    </div>\n",
              "  </div>\n",
              "  "
            ]
          },
          "metadata": {},
          "execution_count": 25
        }
      ]
    },
    {
      "cell_type": "markdown",
      "source": [
        "Conozcamos más las columnas."
      ],
      "metadata": {
        "id": "PnAms6NXt_lo"
      }
    },
    {
      "cell_type": "code",
      "source": [
        "social[\"Segment Type\"].value_counts()"
      ],
      "metadata": {
        "colab": {
          "base_uri": "https://localhost:8080/"
        },
        "id": "CigUrxC4t8W_",
        "outputId": "4e76aab0-df6f-498c-c269-ef4607fec787"
      },
      "execution_count": 27,
      "outputs": [
        {
          "output_type": "execute_result",
          "data": {
            "text/plain": [
              "University    870\n",
              "Custom        560\n",
              "Gender         10\n",
              "Mobile          5\n",
              "Web             5\n",
              "Name: Segment Type, dtype: int64"
            ]
          },
          "metadata": {},
          "execution_count": 27
        }
      ]
    },
    {
      "cell_type": "code",
      "source": [
        "social[\"Segment Description\"].value_counts()"
      ],
      "metadata": {
        "colab": {
          "base_uri": "https://localhost:8080/"
        },
        "id": "J57OTji1vQpl",
        "outputId": "bc4974c6-d5df-4704-9995-5f3404cab5f9"
      },
      "execution_count": 28,
      "outputs": [
        {
          "output_type": "execute_result",
          "data": {
            "text/plain": [
              "What's your major? Other        10\n",
              "Global results                   5\n",
              "you vote for? Donald Trump       5\n",
              "Are you? Jewish                  5\n",
              "Are you? None/Other              5\n",
              "                                ..\n",
              "University of New Hampshire      5\n",
              "Cornell University               5\n",
              "Boise State University           5\n",
              "University of Michigan           5\n",
              "Sexual orientation? Straight     5\n",
              "Name: Segment Description, Length: 289, dtype: int64"
            ]
          },
          "metadata": {},
          "execution_count": 28
        }
      ]
    },
    {
      "cell_type": "code",
      "source": [
        "social[\"Answer\"].value_counts()"
      ],
      "metadata": {
        "colab": {
          "base_uri": "https://localhost:8080/"
        },
        "id": "5Z8jX1m8vt2e",
        "outputId": "9c2dafe4-f6de-43a0-9ea7-d16ffeac977d"
      },
      "execution_count": 29,
      "outputs": [
        {
          "output_type": "execute_result",
          "data": {
            "text/plain": [
              "Facebook     290\n",
              "Instagram    290\n",
              "Snapchat     290\n",
              "Twitter      290\n",
              "None         290\n",
              "Name: Answer, dtype: int64"
            ]
          },
          "metadata": {},
          "execution_count": 29
        }
      ]
    },
    {
      "cell_type": "markdown",
      "source": [
        "De la columna \"Segment Description\", ¿cuántas respuestas contienen la palabra University?"
      ],
      "metadata": {
        "id": "KCFF108Cwx4f"
      }
    },
    {
      "cell_type": "code",
      "source": [
        "social[social[\"Segment Description\"].str.contains(\"University\") | social[\"Segment Description\"].str.contains(\"university\")]"
      ],
      "metadata": {
        "colab": {
          "base_uri": "https://localhost:8080/",
          "height": 419
        },
        "id": "lSG0znJ0wxGC",
        "outputId": "3b917e3e-cc74-4ae0-f734-1b045e53f165"
      },
      "execution_count": 36,
      "outputs": [
        {
          "output_type": "execute_result",
          "data": {
            "text/plain": [
              "                                              Question Segment Type  \\\n",
              "20   What social platform has influenced your onlin...   University   \n",
              "21   What social platform has influenced your onlin...   University   \n",
              "22   What social platform has influenced your onlin...   University   \n",
              "23   What social platform has influenced your onlin...   University   \n",
              "24   What social platform has influenced your onlin...   University   \n",
              "..                                                 ...          ...   \n",
              "885  What social platform has influenced your onlin...   University   \n",
              "886  What social platform has influenced your onlin...   University   \n",
              "887  What social platform has influenced your onlin...   University   \n",
              "888  What social platform has influenced your onlin...   University   \n",
              "889  What social platform has influenced your onlin...   University   \n",
              "\n",
              "         Segment Description     Answer  Count  Percentage  \n",
              "20    University of Delaware   Facebook      1       0.333  \n",
              "21    University of Delaware  Instagram      1       0.333  \n",
              "22    University of Delaware   Snapchat      0       0.000  \n",
              "23    University of Delaware    Twitter      0       0.000  \n",
              "24    University of Delaware       None      1       0.333  \n",
              "..                       ...        ...    ...         ...  \n",
              "885  Shippensburg University   Facebook      0       0.000  \n",
              "886  Shippensburg University  Instagram      0       0.000  \n",
              "887  Shippensburg University   Snapchat      0       0.000  \n",
              "888  Shippensburg University    Twitter      1       1.000  \n",
              "889  Shippensburg University       None      0       0.000  \n",
              "\n",
              "[685 rows x 6 columns]"
            ],
            "text/html": [
              "\n",
              "  <div id=\"df-531bfaad-af6c-4004-8268-6606841f8724\">\n",
              "    <div class=\"colab-df-container\">\n",
              "      <div>\n",
              "<style scoped>\n",
              "    .dataframe tbody tr th:only-of-type {\n",
              "        vertical-align: middle;\n",
              "    }\n",
              "\n",
              "    .dataframe tbody tr th {\n",
              "        vertical-align: top;\n",
              "    }\n",
              "\n",
              "    .dataframe thead th {\n",
              "        text-align: right;\n",
              "    }\n",
              "</style>\n",
              "<table border=\"1\" class=\"dataframe\">\n",
              "  <thead>\n",
              "    <tr style=\"text-align: right;\">\n",
              "      <th></th>\n",
              "      <th>Question</th>\n",
              "      <th>Segment Type</th>\n",
              "      <th>Segment Description</th>\n",
              "      <th>Answer</th>\n",
              "      <th>Count</th>\n",
              "      <th>Percentage</th>\n",
              "    </tr>\n",
              "  </thead>\n",
              "  <tbody>\n",
              "    <tr>\n",
              "      <th>20</th>\n",
              "      <td>What social platform has influenced your onlin...</td>\n",
              "      <td>University</td>\n",
              "      <td>University of Delaware</td>\n",
              "      <td>Facebook</td>\n",
              "      <td>1</td>\n",
              "      <td>0.333</td>\n",
              "    </tr>\n",
              "    <tr>\n",
              "      <th>21</th>\n",
              "      <td>What social platform has influenced your onlin...</td>\n",
              "      <td>University</td>\n",
              "      <td>University of Delaware</td>\n",
              "      <td>Instagram</td>\n",
              "      <td>1</td>\n",
              "      <td>0.333</td>\n",
              "    </tr>\n",
              "    <tr>\n",
              "      <th>22</th>\n",
              "      <td>What social platform has influenced your onlin...</td>\n",
              "      <td>University</td>\n",
              "      <td>University of Delaware</td>\n",
              "      <td>Snapchat</td>\n",
              "      <td>0</td>\n",
              "      <td>0.000</td>\n",
              "    </tr>\n",
              "    <tr>\n",
              "      <th>23</th>\n",
              "      <td>What social platform has influenced your onlin...</td>\n",
              "      <td>University</td>\n",
              "      <td>University of Delaware</td>\n",
              "      <td>Twitter</td>\n",
              "      <td>0</td>\n",
              "      <td>0.000</td>\n",
              "    </tr>\n",
              "    <tr>\n",
              "      <th>24</th>\n",
              "      <td>What social platform has influenced your onlin...</td>\n",
              "      <td>University</td>\n",
              "      <td>University of Delaware</td>\n",
              "      <td>None</td>\n",
              "      <td>1</td>\n",
              "      <td>0.333</td>\n",
              "    </tr>\n",
              "    <tr>\n",
              "      <th>...</th>\n",
              "      <td>...</td>\n",
              "      <td>...</td>\n",
              "      <td>...</td>\n",
              "      <td>...</td>\n",
              "      <td>...</td>\n",
              "      <td>...</td>\n",
              "    </tr>\n",
              "    <tr>\n",
              "      <th>885</th>\n",
              "      <td>What social platform has influenced your onlin...</td>\n",
              "      <td>University</td>\n",
              "      <td>Shippensburg University</td>\n",
              "      <td>Facebook</td>\n",
              "      <td>0</td>\n",
              "      <td>0.000</td>\n",
              "    </tr>\n",
              "    <tr>\n",
              "      <th>886</th>\n",
              "      <td>What social platform has influenced your onlin...</td>\n",
              "      <td>University</td>\n",
              "      <td>Shippensburg University</td>\n",
              "      <td>Instagram</td>\n",
              "      <td>0</td>\n",
              "      <td>0.000</td>\n",
              "    </tr>\n",
              "    <tr>\n",
              "      <th>887</th>\n",
              "      <td>What social platform has influenced your onlin...</td>\n",
              "      <td>University</td>\n",
              "      <td>Shippensburg University</td>\n",
              "      <td>Snapchat</td>\n",
              "      <td>0</td>\n",
              "      <td>0.000</td>\n",
              "    </tr>\n",
              "    <tr>\n",
              "      <th>888</th>\n",
              "      <td>What social platform has influenced your onlin...</td>\n",
              "      <td>University</td>\n",
              "      <td>Shippensburg University</td>\n",
              "      <td>Twitter</td>\n",
              "      <td>1</td>\n",
              "      <td>1.000</td>\n",
              "    </tr>\n",
              "    <tr>\n",
              "      <th>889</th>\n",
              "      <td>What social platform has influenced your onlin...</td>\n",
              "      <td>University</td>\n",
              "      <td>Shippensburg University</td>\n",
              "      <td>None</td>\n",
              "      <td>0</td>\n",
              "      <td>0.000</td>\n",
              "    </tr>\n",
              "  </tbody>\n",
              "</table>\n",
              "<p>685 rows × 6 columns</p>\n",
              "</div>\n",
              "      <button class=\"colab-df-convert\" onclick=\"convertToInteractive('df-531bfaad-af6c-4004-8268-6606841f8724')\"\n",
              "              title=\"Convert this dataframe to an interactive table.\"\n",
              "              style=\"display:none;\">\n",
              "        \n",
              "  <svg xmlns=\"http://www.w3.org/2000/svg\" height=\"24px\"viewBox=\"0 0 24 24\"\n",
              "       width=\"24px\">\n",
              "    <path d=\"M0 0h24v24H0V0z\" fill=\"none\"/>\n",
              "    <path d=\"M18.56 5.44l.94 2.06.94-2.06 2.06-.94-2.06-.94-.94-2.06-.94 2.06-2.06.94zm-11 1L8.5 8.5l.94-2.06 2.06-.94-2.06-.94L8.5 2.5l-.94 2.06-2.06.94zm10 10l.94 2.06.94-2.06 2.06-.94-2.06-.94-.94-2.06-.94 2.06-2.06.94z\"/><path d=\"M17.41 7.96l-1.37-1.37c-.4-.4-.92-.59-1.43-.59-.52 0-1.04.2-1.43.59L10.3 9.45l-7.72 7.72c-.78.78-.78 2.05 0 2.83L4 21.41c.39.39.9.59 1.41.59.51 0 1.02-.2 1.41-.59l7.78-7.78 2.81-2.81c.8-.78.8-2.07 0-2.86zM5.41 20L4 18.59l7.72-7.72 1.47 1.35L5.41 20z\"/>\n",
              "  </svg>\n",
              "      </button>\n",
              "      \n",
              "  <style>\n",
              "    .colab-df-container {\n",
              "      display:flex;\n",
              "      flex-wrap:wrap;\n",
              "      gap: 12px;\n",
              "    }\n",
              "\n",
              "    .colab-df-convert {\n",
              "      background-color: #E8F0FE;\n",
              "      border: none;\n",
              "      border-radius: 50%;\n",
              "      cursor: pointer;\n",
              "      display: none;\n",
              "      fill: #1967D2;\n",
              "      height: 32px;\n",
              "      padding: 0 0 0 0;\n",
              "      width: 32px;\n",
              "    }\n",
              "\n",
              "    .colab-df-convert:hover {\n",
              "      background-color: #E2EBFA;\n",
              "      box-shadow: 0px 1px 2px rgba(60, 64, 67, 0.3), 0px 1px 3px 1px rgba(60, 64, 67, 0.15);\n",
              "      fill: #174EA6;\n",
              "    }\n",
              "\n",
              "    [theme=dark] .colab-df-convert {\n",
              "      background-color: #3B4455;\n",
              "      fill: #D2E3FC;\n",
              "    }\n",
              "\n",
              "    [theme=dark] .colab-df-convert:hover {\n",
              "      background-color: #434B5C;\n",
              "      box-shadow: 0px 1px 3px 1px rgba(0, 0, 0, 0.15);\n",
              "      filter: drop-shadow(0px 1px 2px rgba(0, 0, 0, 0.3));\n",
              "      fill: #FFFFFF;\n",
              "    }\n",
              "  </style>\n",
              "\n",
              "      <script>\n",
              "        const buttonEl =\n",
              "          document.querySelector('#df-531bfaad-af6c-4004-8268-6606841f8724 button.colab-df-convert');\n",
              "        buttonEl.style.display =\n",
              "          google.colab.kernel.accessAllowed ? 'block' : 'none';\n",
              "\n",
              "        async function convertToInteractive(key) {\n",
              "          const element = document.querySelector('#df-531bfaad-af6c-4004-8268-6606841f8724');\n",
              "          const dataTable =\n",
              "            await google.colab.kernel.invokeFunction('convertToInteractive',\n",
              "                                                     [key], {});\n",
              "          if (!dataTable) return;\n",
              "\n",
              "          const docLinkHtml = 'Like what you see? Visit the ' +\n",
              "            '<a target=\"_blank\" href=https://colab.research.google.com/notebooks/data_table.ipynb>data table notebook</a>'\n",
              "            + ' to learn more about interactive tables.';\n",
              "          element.innerHTML = '';\n",
              "          dataTable['output_type'] = 'display_data';\n",
              "          await google.colab.output.renderOutput(dataTable, element);\n",
              "          const docLink = document.createElement('div');\n",
              "          docLink.innerHTML = docLinkHtml;\n",
              "          element.appendChild(docLink);\n",
              "        }\n",
              "      </script>\n",
              "    </div>\n",
              "  </div>\n",
              "  "
            ]
          },
          "metadata": {},
          "execution_count": 36
        }
      ]
    },
    {
      "cell_type": "code",
      "source": [
        "social[social[\"Segment Description\"].str.contains(\"University\") | social[\"Segment Description\"].str.contains(\"university\")][\"Segment Description\"].value_counts()"
      ],
      "metadata": {
        "colab": {
          "base_uri": "https://localhost:8080/"
        },
        "id": "wl2cRVlR3kLR",
        "outputId": "673ae38f-601a-4c71-9555-c8d2a23ec4e8"
      },
      "execution_count": 45,
      "outputs": [
        {
          "output_type": "execute_result",
          "data": {
            "text/plain": [
              "University of Delaware                5\n",
              "University of California Riverside    5\n",
              "University of Illinois                5\n",
              "University of Washington              5\n",
              "University of North Carolina          5\n",
              "                                     ..\n",
              "Tufts University                      5\n",
              "Whatsgoodly University                5\n",
              "University of Nebraska                5\n",
              "University of Montana                 5\n",
              "Shippensburg University               5\n",
              "Name: Segment Description, Length: 137, dtype: int64"
            ]
          },
          "metadata": {},
          "execution_count": 45
        }
      ]
    },
    {
      "cell_type": "markdown",
      "source": [
        "Se sugiere que hay columnas de Segment Type \"University\" y Segment Description \"University of...\""
      ],
      "metadata": {
        "id": "3LS1xvvKykKK"
      }
    },
    {
      "cell_type": "code",
      "source": [
        "social[social[\"Segment Type\"].str.contains(\"University\") & ~(social[\"Segment Description\"].str.contains(\"University\"))]"
      ],
      "metadata": {
        "colab": {
          "base_uri": "https://localhost:8080/",
          "height": 419
        },
        "id": "-w8KT9nu3WMi",
        "outputId": "d332dd4e-f63a-4019-9ed7-4e58135d1309"
      },
      "execution_count": 44,
      "outputs": [
        {
          "output_type": "execute_result",
          "data": {
            "text/plain": [
              "                                              Question Segment Type  \\\n",
              "30   What social platform has influenced your onlin...   University   \n",
              "31   What social platform has influenced your onlin...   University   \n",
              "32   What social platform has influenced your onlin...   University   \n",
              "33   What social platform has influenced your onlin...   University   \n",
              "34   What social platform has influenced your onlin...   University   \n",
              "..                                                 ...          ...   \n",
              "855  What social platform has influenced your onlin...   University   \n",
              "856  What social platform has influenced your onlin...   University   \n",
              "857  What social platform has influenced your onlin...   University   \n",
              "858  What social platform has influenced your onlin...   University   \n",
              "859  What social platform has influenced your onlin...   University   \n",
              "\n",
              "      Segment Description     Answer  Count  Percentage  \n",
              "30   Students of New York   Facebook      0       0.000  \n",
              "31   Students of New York  Instagram     21       0.467  \n",
              "32   Students of New York   Snapchat      1       0.022  \n",
              "33   Students of New York    Twitter      5       0.111  \n",
              "34   Students of New York       None     18       0.400  \n",
              "..                    ...        ...    ...         ...  \n",
              "855         UMass Amherst   Facebook      1       0.500  \n",
              "856         UMass Amherst  Instagram      1       0.500  \n",
              "857         UMass Amherst   Snapchat      0       0.000  \n",
              "858         UMass Amherst    Twitter      0       0.000  \n",
              "859         UMass Amherst       None      0       0.000  \n",
              "\n",
              "[185 rows x 6 columns]"
            ],
            "text/html": [
              "\n",
              "  <div id=\"df-fbf0c359-c7fa-4735-a4ff-6e029cb11bf9\">\n",
              "    <div class=\"colab-df-container\">\n",
              "      <div>\n",
              "<style scoped>\n",
              "    .dataframe tbody tr th:only-of-type {\n",
              "        vertical-align: middle;\n",
              "    }\n",
              "\n",
              "    .dataframe tbody tr th {\n",
              "        vertical-align: top;\n",
              "    }\n",
              "\n",
              "    .dataframe thead th {\n",
              "        text-align: right;\n",
              "    }\n",
              "</style>\n",
              "<table border=\"1\" class=\"dataframe\">\n",
              "  <thead>\n",
              "    <tr style=\"text-align: right;\">\n",
              "      <th></th>\n",
              "      <th>Question</th>\n",
              "      <th>Segment Type</th>\n",
              "      <th>Segment Description</th>\n",
              "      <th>Answer</th>\n",
              "      <th>Count</th>\n",
              "      <th>Percentage</th>\n",
              "    </tr>\n",
              "  </thead>\n",
              "  <tbody>\n",
              "    <tr>\n",
              "      <th>30</th>\n",
              "      <td>What social platform has influenced your onlin...</td>\n",
              "      <td>University</td>\n",
              "      <td>Students of New York</td>\n",
              "      <td>Facebook</td>\n",
              "      <td>0</td>\n",
              "      <td>0.000</td>\n",
              "    </tr>\n",
              "    <tr>\n",
              "      <th>31</th>\n",
              "      <td>What social platform has influenced your onlin...</td>\n",
              "      <td>University</td>\n",
              "      <td>Students of New York</td>\n",
              "      <td>Instagram</td>\n",
              "      <td>21</td>\n",
              "      <td>0.467</td>\n",
              "    </tr>\n",
              "    <tr>\n",
              "      <th>32</th>\n",
              "      <td>What social platform has influenced your onlin...</td>\n",
              "      <td>University</td>\n",
              "      <td>Students of New York</td>\n",
              "      <td>Snapchat</td>\n",
              "      <td>1</td>\n",
              "      <td>0.022</td>\n",
              "    </tr>\n",
              "    <tr>\n",
              "      <th>33</th>\n",
              "      <td>What social platform has influenced your onlin...</td>\n",
              "      <td>University</td>\n",
              "      <td>Students of New York</td>\n",
              "      <td>Twitter</td>\n",
              "      <td>5</td>\n",
              "      <td>0.111</td>\n",
              "    </tr>\n",
              "    <tr>\n",
              "      <th>34</th>\n",
              "      <td>What social platform has influenced your onlin...</td>\n",
              "      <td>University</td>\n",
              "      <td>Students of New York</td>\n",
              "      <td>None</td>\n",
              "      <td>18</td>\n",
              "      <td>0.400</td>\n",
              "    </tr>\n",
              "    <tr>\n",
              "      <th>...</th>\n",
              "      <td>...</td>\n",
              "      <td>...</td>\n",
              "      <td>...</td>\n",
              "      <td>...</td>\n",
              "      <td>...</td>\n",
              "      <td>...</td>\n",
              "    </tr>\n",
              "    <tr>\n",
              "      <th>855</th>\n",
              "      <td>What social platform has influenced your onlin...</td>\n",
              "      <td>University</td>\n",
              "      <td>UMass Amherst</td>\n",
              "      <td>Facebook</td>\n",
              "      <td>1</td>\n",
              "      <td>0.500</td>\n",
              "    </tr>\n",
              "    <tr>\n",
              "      <th>856</th>\n",
              "      <td>What social platform has influenced your onlin...</td>\n",
              "      <td>University</td>\n",
              "      <td>UMass Amherst</td>\n",
              "      <td>Instagram</td>\n",
              "      <td>1</td>\n",
              "      <td>0.500</td>\n",
              "    </tr>\n",
              "    <tr>\n",
              "      <th>857</th>\n",
              "      <td>What social platform has influenced your onlin...</td>\n",
              "      <td>University</td>\n",
              "      <td>UMass Amherst</td>\n",
              "      <td>Snapchat</td>\n",
              "      <td>0</td>\n",
              "      <td>0.000</td>\n",
              "    </tr>\n",
              "    <tr>\n",
              "      <th>858</th>\n",
              "      <td>What social platform has influenced your onlin...</td>\n",
              "      <td>University</td>\n",
              "      <td>UMass Amherst</td>\n",
              "      <td>Twitter</td>\n",
              "      <td>0</td>\n",
              "      <td>0.000</td>\n",
              "    </tr>\n",
              "    <tr>\n",
              "      <th>859</th>\n",
              "      <td>What social platform has influenced your onlin...</td>\n",
              "      <td>University</td>\n",
              "      <td>UMass Amherst</td>\n",
              "      <td>None</td>\n",
              "      <td>0</td>\n",
              "      <td>0.000</td>\n",
              "    </tr>\n",
              "  </tbody>\n",
              "</table>\n",
              "<p>185 rows × 6 columns</p>\n",
              "</div>\n",
              "      <button class=\"colab-df-convert\" onclick=\"convertToInteractive('df-fbf0c359-c7fa-4735-a4ff-6e029cb11bf9')\"\n",
              "              title=\"Convert this dataframe to an interactive table.\"\n",
              "              style=\"display:none;\">\n",
              "        \n",
              "  <svg xmlns=\"http://www.w3.org/2000/svg\" height=\"24px\"viewBox=\"0 0 24 24\"\n",
              "       width=\"24px\">\n",
              "    <path d=\"M0 0h24v24H0V0z\" fill=\"none\"/>\n",
              "    <path d=\"M18.56 5.44l.94 2.06.94-2.06 2.06-.94-2.06-.94-.94-2.06-.94 2.06-2.06.94zm-11 1L8.5 8.5l.94-2.06 2.06-.94-2.06-.94L8.5 2.5l-.94 2.06-2.06.94zm10 10l.94 2.06.94-2.06 2.06-.94-2.06-.94-.94-2.06-.94 2.06-2.06.94z\"/><path d=\"M17.41 7.96l-1.37-1.37c-.4-.4-.92-.59-1.43-.59-.52 0-1.04.2-1.43.59L10.3 9.45l-7.72 7.72c-.78.78-.78 2.05 0 2.83L4 21.41c.39.39.9.59 1.41.59.51 0 1.02-.2 1.41-.59l7.78-7.78 2.81-2.81c.8-.78.8-2.07 0-2.86zM5.41 20L4 18.59l7.72-7.72 1.47 1.35L5.41 20z\"/>\n",
              "  </svg>\n",
              "      </button>\n",
              "      \n",
              "  <style>\n",
              "    .colab-df-container {\n",
              "      display:flex;\n",
              "      flex-wrap:wrap;\n",
              "      gap: 12px;\n",
              "    }\n",
              "\n",
              "    .colab-df-convert {\n",
              "      background-color: #E8F0FE;\n",
              "      border: none;\n",
              "      border-radius: 50%;\n",
              "      cursor: pointer;\n",
              "      display: none;\n",
              "      fill: #1967D2;\n",
              "      height: 32px;\n",
              "      padding: 0 0 0 0;\n",
              "      width: 32px;\n",
              "    }\n",
              "\n",
              "    .colab-df-convert:hover {\n",
              "      background-color: #E2EBFA;\n",
              "      box-shadow: 0px 1px 2px rgba(60, 64, 67, 0.3), 0px 1px 3px 1px rgba(60, 64, 67, 0.15);\n",
              "      fill: #174EA6;\n",
              "    }\n",
              "\n",
              "    [theme=dark] .colab-df-convert {\n",
              "      background-color: #3B4455;\n",
              "      fill: #D2E3FC;\n",
              "    }\n",
              "\n",
              "    [theme=dark] .colab-df-convert:hover {\n",
              "      background-color: #434B5C;\n",
              "      box-shadow: 0px 1px 3px 1px rgba(0, 0, 0, 0.15);\n",
              "      filter: drop-shadow(0px 1px 2px rgba(0, 0, 0, 0.3));\n",
              "      fill: #FFFFFF;\n",
              "    }\n",
              "  </style>\n",
              "\n",
              "      <script>\n",
              "        const buttonEl =\n",
              "          document.querySelector('#df-fbf0c359-c7fa-4735-a4ff-6e029cb11bf9 button.colab-df-convert');\n",
              "        buttonEl.style.display =\n",
              "          google.colab.kernel.accessAllowed ? 'block' : 'none';\n",
              "\n",
              "        async function convertToInteractive(key) {\n",
              "          const element = document.querySelector('#df-fbf0c359-c7fa-4735-a4ff-6e029cb11bf9');\n",
              "          const dataTable =\n",
              "            await google.colab.kernel.invokeFunction('convertToInteractive',\n",
              "                                                     [key], {});\n",
              "          if (!dataTable) return;\n",
              "\n",
              "          const docLinkHtml = 'Like what you see? Visit the ' +\n",
              "            '<a target=\"_blank\" href=https://colab.research.google.com/notebooks/data_table.ipynb>data table notebook</a>'\n",
              "            + ' to learn more about interactive tables.';\n",
              "          element.innerHTML = '';\n",
              "          dataTable['output_type'] = 'display_data';\n",
              "          await google.colab.output.renderOutput(dataTable, element);\n",
              "          const docLink = document.createElement('div');\n",
              "          docLink.innerHTML = docLinkHtml;\n",
              "          element.appendChild(docLink);\n",
              "        }\n",
              "      </script>\n",
              "    </div>\n",
              "  </div>\n",
              "  "
            ]
          },
          "metadata": {},
          "execution_count": 44
        }
      ]
    },
    {
      "cell_type": "code",
      "source": [
        "social[social[\"Segment Type\"].str.contains(\"University\") & ~(social[\"Segment Description\"].str.contains(\"University\"))][\"Segment Description\"].value_counts()"
      ],
      "metadata": {
        "colab": {
          "base_uri": "https://localhost:8080/"
        },
        "id": "T4jzTl3MysRa",
        "outputId": "03f2586c-4b1d-4bee-ecf1-94f406fcf648"
      },
      "execution_count": 43,
      "outputs": [
        {
          "output_type": "execute_result",
          "data": {
            "text/plain": [
              "Students of New York                  5\n",
              "College of William and Mary           5\n",
              "Cal Poly San Luis Obispo              5\n",
              "Hampden-Sydney College                5\n",
              "Rochester Institute of Technology     5\n",
              "UMass Dartmouth                       5\n",
              "Claremont McKenna College             5\n",
              "Illinois State                        5\n",
              "Centre College                        5\n",
              "Dartmouth College                     5\n",
              "Blinn College                         5\n",
              "Wellesley College                     5\n",
              "Universidad Nacional de Costa Rica    5\n",
              "United States Military Academy        5\n",
              "Essex Technical High School           5\n",
              "Pinnacle High School                  5\n",
              "Baltimore City College                5\n",
              "Gulf Breeze High School               5\n",
              "Union High School                     5\n",
              "Randolph-Macon College                5\n",
              "Cypress Creek High School             5\n",
              "Wisconsin HS                          5\n",
              "Carthage College                      5\n",
              "Richland High School                  5\n",
              "Chaparral High School                 5\n",
              "Colorado Academy                      5\n",
              "United States Naval Academy           5\n",
              "Kalamazoo College                     5\n",
              "Medford High School                   5\n",
              "Colby College                         5\n",
              "Bates College                         5\n",
              "Westport, CT                          5\n",
              "Whitman College                       5\n",
              "The College of New Jersey             5\n",
              "Arbroath Academy                      5\n",
              "Virginia Tech                         5\n",
              "UMass Amherst                         5\n",
              "Name: Segment Description, dtype: int64"
            ]
          },
          "metadata": {},
          "execution_count": 43
        }
      ]
    },
    {
      "cell_type": "markdown",
      "source": [
        "Esto sugiere que nuestra hipótesis de que debe contener universidad en ambos era incorrecta."
      ],
      "metadata": {
        "id": "jidB9IfJ1k9Y"
      }
    },
    {
      "cell_type": "markdown",
      "source": [
        "Seguimos con el manual de Análisis Exploratorio de Datos"
      ],
      "metadata": {
        "id": "gNablHEC13wM"
      }
    }
  ]
}